{
 "cells": [
  {
   "cell_type": "code",
   "execution_count": 505,
   "id": "7ebf1936",
   "metadata": {},
   "outputs": [],
   "source": [
    "import pandas as pd\n",
    "import numpy as np\n",
    "import math\n",
    "import nltk"
   ]
  },
  {
   "cell_type": "code",
   "execution_count": 506,
   "id": "058cb572",
   "metadata": {},
   "outputs": [
    {
     "name": "stderr",
     "output_type": "stream",
     "text": [
      "[nltk_data] Downloading package vader_lexicon to\n",
      "[nltk_data]     /home/james/nltk_data...\n",
      "[nltk_data]   Package vader_lexicon is already up-to-date!\n"
     ]
    }
   ],
   "source": [
    "nltk.download('vader_lexicon')\n",
    "from nltk.sentiment.vader import SentimentIntensityAnalyzer\n",
    "sid = SentimentIntensityAnalyzer()"
   ]
  },
  {
   "cell_type": "code",
   "execution_count": 507,
   "id": "ace6fb65",
   "metadata": {},
   "outputs": [],
   "source": [
    "df = pd.read_json('./json/tuckerCarlson.json')\n",
    "df = df.assign(keyword=\"tuckerCarlson\")\n",
    "dropList = ['id', 'dislikes', 'location', 'subtitles', 'comments', 'commentsTurnedOff', 'details']\n",
    "df = df.drop(dropList, axis =1)\n",
    "df = df.replace(np.nan, 1)\n",
    "df['ratio'] =  round((df['likes'] / df['viewCount'] + 0.1) * 2.5, 2)"
   ]
  },
  {
   "cell_type": "code",
   "execution_count": 508,
   "id": "17061afb",
   "metadata": {},
   "outputs": [
    {
     "name": "stdout",
     "output_type": "stream",
     "text": [
      "TOTAL VIDEOS: 584.0, WEIGHTED AV views: 708381.21, likes: 21651.15, comments: 2647.53, ratio: 204.19\n"
     ]
    }
   ],
   "source": [
    "# THESE ARE THE SHEETS TOTALS\n",
    "dfLength = len(df.index) /dfLength\n",
    "ratioAverage = df['ratio'].sum()\n",
    "views = round(df['viewCount'].sum() / dfLength, 2)\n",
    "likes = round(df['likes'].sum() / dfLength, 2)\n",
    "comments = round(df['commentsCount'].sum() / dfLength, 2)\n",
    "print(f'TOTAL VIDEOS: {dfLength}, WEIGHTED AV views: {views}, likes: {likes}, comments: {comments}, ratio: {ratioAverage}')"
   ]
  },
  {
   "cell_type": "code",
   "execution_count": null,
   "id": "2a1e1859",
   "metadata": {},
   "outputs": [],
   "source": []
  },
  {
   "cell_type": "code",
   "execution_count": 515,
   "id": "9e1d137c",
   "metadata": {},
   "outputs": [],
   "source": [
    "def sigmoid(x):\n",
    "  return 1 / (1 + math.exp(-x))"
   ]
  },
  {
   "cell_type": "code",
   "execution_count": 510,
   "id": "e8829b1a",
   "metadata": {},
   "outputs": [
    {
     "data": {
      "text/plain": [
       "pos    306\n",
       "neg    278\n",
       "Name: titleCompScore, dtype: int64"
      ]
     },
     "execution_count": 510,
     "metadata": {},
     "output_type": "execute_result"
    }
   ],
   "source": [
    "df['titleScores'] = df['title'].apply(lambda text: sid.polarity_scores(text))\n",
    "df['titleCompound']  = df['titleScores'].apply(lambda score_dict: score_dict['compound'])\n",
    "df['titleCompScore'] = df['titleCompound'].apply(lambda c: 'pos' if c >=0 else 'neg')\n",
    "titleIndex = pd.Index(df['titleCompScore'])\n",
    "titleIndex.value_counts()"
   ]
  },
  {
   "cell_type": "code",
   "execution_count": 511,
   "id": "4deb4e4c",
   "metadata": {},
   "outputs": [
    {
     "data": {
      "text/plain": [
       "pos    474\n",
       "neg    110\n",
       "Name: textCompScore, dtype: int64"
      ]
     },
     "execution_count": 511,
     "metadata": {},
     "output_type": "execute_result"
    }
   ],
   "source": [
    "df['textScores'] = df['text'].apply(lambda text: sid.polarity_scores(text))\n",
    "df['textCompound']  = df['textScores'].apply(lambda score_dict: score_dict['compound'])\n",
    "df['textCompScore'] = df['textCompound'].apply(lambda c: 'pos' if c >=0 else 'neg')\n",
    "textIndex = pd.Index(df['textCompScore'])\n",
    "textIndex.value_counts()"
   ]
  },
  {
   "cell_type": "code",
   "execution_count": 512,
   "id": "2da7183f",
   "metadata": {},
   "outputs": [
    {
     "name": "stdout",
     "output_type": "stream",
     "text": [
      "<class 'pandas.core.frame.DataFrame'>\n",
      "RangeIndex: 584 entries, 0 to 583\n",
      "Data columns (total 20 columns):\n",
      " #   Column               Non-Null Count  Dtype         \n",
      "---  ------               --------------  -----         \n",
      " 0   title                584 non-null    object        \n",
      " 1   url                  584 non-null    object        \n",
      " 2   thumbnailUrl         584 non-null    object        \n",
      " 3   viewCount            584 non-null    int64         \n",
      " 4   date                 584 non-null    datetime64[ns]\n",
      " 5   likes                584 non-null    int64         \n",
      " 6   channelName          584 non-null    object        \n",
      " 7   channelUrl           584 non-null    object        \n",
      " 8   numberOfSubscribers  584 non-null    int64         \n",
      " 9   duration             584 non-null    object        \n",
      " 10  commentsCount        584 non-null    float64       \n",
      " 11  text                 584 non-null    object        \n",
      " 12  keyword              584 non-null    object        \n",
      " 13  ratio                584 non-null    float64       \n",
      " 14  titleScores          584 non-null    object        \n",
      " 15  titleCompound        584 non-null    float64       \n",
      " 16  titleCompScore       584 non-null    object        \n",
      " 17  textScores           584 non-null    object        \n",
      " 18  textCompound         584 non-null    float64       \n",
      " 19  textCompScore        584 non-null    object        \n",
      "dtypes: datetime64[ns](1), float64(4), int64(3), object(12)\n",
      "memory usage: 91.4+ KB\n"
     ]
    }
   ],
   "source": [
    "df.info()"
   ]
  },
  {
   "cell_type": "code",
   "execution_count": 513,
   "id": "6463e733",
   "metadata": {},
   "outputs": [],
   "source": [
    "df['sentimentScore'] = df['titleCompound'] + df['textCompound']\n",
    "secondDrop = ['titleScores', 'titleCompScore', 'textScores', 'textCompScore', 'textCompound', 'titleCompound']\n",
    "df=df.drop(secondDrop, axis=1)"
   ]
  },
  {
   "cell_type": "code",
   "execution_count": 514,
   "id": "46e0d5ce",
   "metadata": {},
   "outputs": [
    {
     "data": {
      "text/html": [
       "<div>\n",
       "<style scoped>\n",
       "    .dataframe tbody tr th:only-of-type {\n",
       "        vertical-align: middle;\n",
       "    }\n",
       "\n",
       "    .dataframe tbody tr th {\n",
       "        vertical-align: top;\n",
       "    }\n",
       "\n",
       "    .dataframe thead th {\n",
       "        text-align: right;\n",
       "    }\n",
       "</style>\n",
       "<table border=\"1\" class=\"dataframe\">\n",
       "  <thead>\n",
       "    <tr style=\"text-align: right;\">\n",
       "      <th></th>\n",
       "      <th>title</th>\n",
       "      <th>url</th>\n",
       "      <th>thumbnailUrl</th>\n",
       "      <th>viewCount</th>\n",
       "      <th>date</th>\n",
       "      <th>likes</th>\n",
       "      <th>channelName</th>\n",
       "      <th>channelUrl</th>\n",
       "      <th>numberOfSubscribers</th>\n",
       "      <th>duration</th>\n",
       "      <th>commentsCount</th>\n",
       "      <th>text</th>\n",
       "      <th>keyword</th>\n",
       "      <th>ratio</th>\n",
       "      <th>sentimentScore</th>\n",
       "    </tr>\n",
       "  </thead>\n",
       "  <tbody>\n",
       "    <tr>\n",
       "      <th>0</th>\n",
       "      <td>Tucker Carlson text message that reportedly le...</td>\n",
       "      <td>https://www.youtube.com/watch?v=wPXUAYrXojY&amp;pp...</td>\n",
       "      <td>https://i.ytimg.com/vi/wPXUAYrXojY/maxresdefau...</td>\n",
       "      <td>23522</td>\n",
       "      <td>2023-05-03</td>\n",
       "      <td>134</td>\n",
       "      <td>TODAY</td>\n",
       "      <td>http://www.youtube.com/@TODAY</td>\n",
       "      <td>3850000</td>\n",
       "      <td>00:02:29</td>\n",
       "      <td>361.0</td>\n",
       "      <td>New details are emerging about Tucker Carlson’...</td>\n",
       "      <td>tuckerCarlson</td>\n",
       "      <td>0.26</td>\n",
       "      <td>-0.0686</td>\n",
       "    </tr>\n",
       "    <tr>\n",
       "      <th>1</th>\n",
       "      <td>Tucker Carlson Leaks MASSIVELY BACKFIRE; Watch...</td>\n",
       "      <td>https://www.youtube.com/watch?v=_tfCRsEM3wc&amp;pp...</td>\n",
       "      <td>https://i.ytimg.com/vi/_tfCRsEM3wc/hqdefault.jpg</td>\n",
       "      <td>102776</td>\n",
       "      <td>2023-05-03</td>\n",
       "      <td>2547</td>\n",
       "      <td>The Hill</td>\n",
       "      <td>http://www.youtube.com/@thehill</td>\n",
       "      <td>1590000</td>\n",
       "      <td>1</td>\n",
       "      <td>1.0</td>\n",
       "      <td>Jessica Burbank and Robby Soave react to updat...</td>\n",
       "      <td>tuckerCarlson</td>\n",
       "      <td>0.31</td>\n",
       "      <td>0.4005</td>\n",
       "    </tr>\n",
       "    <tr>\n",
       "      <th>2</th>\n",
       "      <td>CREEPY AF Videos of Tucker Carlson Leak</td>\n",
       "      <td>https://www.youtube.com/watch?v=-lx9-QoMcyM&amp;pp...</td>\n",
       "      <td>https://i.ytimg.com/vi/-lx9-QoMcyM/maxresdefau...</td>\n",
       "      <td>270664</td>\n",
       "      <td>2023-05-02</td>\n",
       "      <td>9015</td>\n",
       "      <td>The Young Turks</td>\n",
       "      <td>http://www.youtube.com/@TheYoungTurks</td>\n",
       "      <td>5410000</td>\n",
       "      <td>00:12:58</td>\n",
       "      <td>3285.0</td>\n",
       "      <td>Leaked video shows Tucker Carlson's creepy com...</td>\n",
       "      <td>tuckerCarlson</td>\n",
       "      <td>0.33</td>\n",
       "      <td>0.5301</td>\n",
       "    </tr>\n",
       "    <tr>\n",
       "      <th>3</th>\n",
       "      <td>The Tucker Carlson Text That “Set Off a Panic”...</td>\n",
       "      <td>https://www.youtube.com/watch?v=qpHA6AGr30I&amp;pp...</td>\n",
       "      <td>https://i.ytimg.com/vi/qpHA6AGr30I/maxresdefau...</td>\n",
       "      <td>2772</td>\n",
       "      <td>2023-05-03</td>\n",
       "      <td>48</td>\n",
       "      <td>The Hollywood Reporter</td>\n",
       "      <td>http://www.youtube.com/@hollywoodreporter</td>\n",
       "      <td>1050000</td>\n",
       "      <td>00:01:43</td>\n",
       "      <td>54.0</td>\n",
       "      <td>The New York Times revealed the message that s...</td>\n",
       "      <td>tuckerCarlson</td>\n",
       "      <td>0.29</td>\n",
       "      <td>0.8913</td>\n",
       "    </tr>\n",
       "    <tr>\n",
       "      <th>4</th>\n",
       "      <td>Tucker Carlson sent racist text to producer, N...</td>\n",
       "      <td>https://www.youtube.com/watch?v=8mIQ8WsjOHY&amp;pp...</td>\n",
       "      <td>https://i.ytimg.com/vi/8mIQ8WsjOHY/hqdefault.jpg</td>\n",
       "      <td>37619</td>\n",
       "      <td>2023-05-03</td>\n",
       "      <td>303</td>\n",
       "      <td>ABC7 News Bay Area</td>\n",
       "      <td>http://www.youtube.com/@abc7news</td>\n",
       "      <td>279000</td>\n",
       "      <td>00:02:04</td>\n",
       "      <td>844.0</td>\n",
       "      <td>In a newly revealed text message, ousted Fox N...</td>\n",
       "      <td>tuckerCarlson</td>\n",
       "      <td>0.27</td>\n",
       "      <td>-1.5433</td>\n",
       "    </tr>\n",
       "  </tbody>\n",
       "</table>\n",
       "</div>"
      ],
      "text/plain": [
       "                                               title  \\\n",
       "0  Tucker Carlson text message that reportedly le...   \n",
       "1  Tucker Carlson Leaks MASSIVELY BACKFIRE; Watch...   \n",
       "2            CREEPY AF Videos of Tucker Carlson Leak   \n",
       "3  The Tucker Carlson Text That “Set Off a Panic”...   \n",
       "4  Tucker Carlson sent racist text to producer, N...   \n",
       "\n",
       "                                                 url  \\\n",
       "0  https://www.youtube.com/watch?v=wPXUAYrXojY&pp...   \n",
       "1  https://www.youtube.com/watch?v=_tfCRsEM3wc&pp...   \n",
       "2  https://www.youtube.com/watch?v=-lx9-QoMcyM&pp...   \n",
       "3  https://www.youtube.com/watch?v=qpHA6AGr30I&pp...   \n",
       "4  https://www.youtube.com/watch?v=8mIQ8WsjOHY&pp...   \n",
       "\n",
       "                                        thumbnailUrl  viewCount       date  \\\n",
       "0  https://i.ytimg.com/vi/wPXUAYrXojY/maxresdefau...      23522 2023-05-03   \n",
       "1   https://i.ytimg.com/vi/_tfCRsEM3wc/hqdefault.jpg     102776 2023-05-03   \n",
       "2  https://i.ytimg.com/vi/-lx9-QoMcyM/maxresdefau...     270664 2023-05-02   \n",
       "3  https://i.ytimg.com/vi/qpHA6AGr30I/maxresdefau...       2772 2023-05-03   \n",
       "4   https://i.ytimg.com/vi/8mIQ8WsjOHY/hqdefault.jpg      37619 2023-05-03   \n",
       "\n",
       "   likes             channelName                                 channelUrl  \\\n",
       "0    134                   TODAY              http://www.youtube.com/@TODAY   \n",
       "1   2547                The Hill            http://www.youtube.com/@thehill   \n",
       "2   9015         The Young Turks      http://www.youtube.com/@TheYoungTurks   \n",
       "3     48  The Hollywood Reporter  http://www.youtube.com/@hollywoodreporter   \n",
       "4    303      ABC7 News Bay Area           http://www.youtube.com/@abc7news   \n",
       "\n",
       "   numberOfSubscribers  duration  commentsCount  \\\n",
       "0              3850000  00:02:29          361.0   \n",
       "1              1590000         1            1.0   \n",
       "2              5410000  00:12:58         3285.0   \n",
       "3              1050000  00:01:43           54.0   \n",
       "4               279000  00:02:04          844.0   \n",
       "\n",
       "                                                text        keyword  ratio  \\\n",
       "0  New details are emerging about Tucker Carlson’...  tuckerCarlson   0.26   \n",
       "1  Jessica Burbank and Robby Soave react to updat...  tuckerCarlson   0.31   \n",
       "2  Leaked video shows Tucker Carlson's creepy com...  tuckerCarlson   0.33   \n",
       "3  The New York Times revealed the message that s...  tuckerCarlson   0.29   \n",
       "4  In a newly revealed text message, ousted Fox N...  tuckerCarlson   0.27   \n",
       "\n",
       "   sentimentScore  \n",
       "0         -0.0686  \n",
       "1          0.4005  \n",
       "2          0.5301  \n",
       "3          0.8913  \n",
       "4         -1.5433  "
      ]
     },
     "execution_count": 514,
     "metadata": {},
     "output_type": "execute_result"
    }
   ],
   "source": [
    "df.head()"
   ]
  },
  {
   "cell_type": "code",
   "execution_count": null,
   "id": "c11fadc3",
   "metadata": {},
   "outputs": [],
   "source": []
  },
  {
   "cell_type": "code",
   "execution_count": null,
   "id": "c9b666d7",
   "metadata": {},
   "outputs": [],
   "source": []
  },
  {
   "cell_type": "code",
   "execution_count": null,
   "id": "25e243ad",
   "metadata": {},
   "outputs": [],
   "source": []
  },
  {
   "cell_type": "code",
   "execution_count": 447,
   "id": "2b5aeae3",
   "metadata": {},
   "outputs": [],
   "source": [
    "\n"
   ]
  },
  {
   "cell_type": "code",
   "execution_count": 448,
   "id": "9cb8652b",
   "metadata": {},
   "outputs": [],
   "source": [
    "# df['score'] = ((df['ratio'] + df['commentsCount'] + df['likes']) / df['viewCount'] * 10 ) / 3"
   ]
  },
  {
   "cell_type": "code",
   "execution_count": 654,
   "id": "39e529c0",
   "metadata": {},
   "outputs": [],
   "source": [
    "df['score'] = ((df['commentsCount'] + df['likes']  + df['viewCount'])/10000) + 0.1"
   ]
  },
  {
   "cell_type": "code",
   "execution_count": 655,
   "id": "19e2d41c",
   "metadata": {},
   "outputs": [],
   "source": [
    "df['score'] = (df['score'] * df['ratio'] /5) +0.5 * (df['sentimentScore'] +.5) + 1\n",
    "# df['score'] = df['score'].apply(lambda x: 1 / (1 + math.exp(-x)))\n",
    "df = df.sort_values('score', ascending=False)"
   ]
  },
  {
   "cell_type": "code",
   "execution_count": 656,
   "id": "2eb4f79a",
   "metadata": {},
   "outputs": [
    {
     "data": {
      "text/plain": [
       "12     1.000000\n",
       "375    1.000000\n",
       "25     1.000000\n",
       "370    1.000000\n",
       "285    1.000000\n",
       "         ...   \n",
       "157    0.679394\n",
       "566    0.676551\n",
       "4      0.666653\n",
       "543    0.652568\n",
       "19     0.628528\n",
       "Name: score, Length: 584, dtype: float64"
      ]
     },
     "execution_count": 656,
     "metadata": {},
     "output_type": "execute_result"
    }
   ],
   "source": [
    "df['score']"
   ]
  },
  {
   "cell_type": "code",
   "execution_count": 568,
   "id": "efd510c3",
   "metadata": {},
   "outputs": [
    {
     "data": {
      "text/plain": [
       "481    https://www.youtube.com/watch?v=AxEZ5cJfKDM&pp...\n",
       "372    https://www.youtube.com/watch?v=pZJftHe7byo&pp...\n",
       "54     https://www.youtube.com/watch?v=3XC7-zaUvj8&pp...\n",
       "219    https://www.youtube.com/watch?v=Jop8ooKfoLY&pp...\n",
       "202    https://www.youtube.com/watch?v=68MhtliIAvk&pp...\n",
       "Name: url, dtype: object"
      ]
     },
     "execution_count": 568,
     "metadata": {},
     "output_type": "execute_result"
    }
   ],
   "source": [
    "df['url'].head()"
   ]
  },
  {
   "cell_type": "code",
   "execution_count": 569,
   "id": "6a8c3e8a",
   "metadata": {},
   "outputs": [
    {
     "data": {
      "text/plain": [
       "15     https://www.youtube.com/watch?v=fuSi2NPTQ5k&pp...\n",
       "268    https://www.youtube.com/watch?v=ikMoSHqY2oE&pp...\n",
       "220    https://www.youtube.com/watch?v=htb_GyQBol4&pp...\n",
       "221    https://www.youtube.com/watch?v=2z9rbK2HhlM&pp...\n",
       "543    https://www.youtube.com/watch?v=1ztFULmmnOY&pp...\n",
       "Name: url, dtype: object"
      ]
     },
     "execution_count": 569,
     "metadata": {},
     "output_type": "execute_result"
    }
   ],
   "source": [
    "df['url'].tail()"
   ]
  },
  {
   "cell_type": "code",
   "execution_count": 574,
   "id": "ba9de3f0",
   "metadata": {},
   "outputs": [
    {
     "data": {
      "text/html": [
       "<div>\n",
       "<style scoped>\n",
       "    .dataframe tbody tr th:only-of-type {\n",
       "        vertical-align: middle;\n",
       "    }\n",
       "\n",
       "    .dataframe tbody tr th {\n",
       "        vertical-align: top;\n",
       "    }\n",
       "\n",
       "    .dataframe thead th {\n",
       "        text-align: right;\n",
       "    }\n",
       "</style>\n",
       "<table border=\"1\" class=\"dataframe\">\n",
       "  <thead>\n",
       "    <tr style=\"text-align: right;\">\n",
       "      <th></th>\n",
       "      <th>title</th>\n",
       "      <th>url</th>\n",
       "      <th>thumbnailUrl</th>\n",
       "      <th>viewCount</th>\n",
       "      <th>date</th>\n",
       "      <th>likes</th>\n",
       "      <th>channelName</th>\n",
       "      <th>channelUrl</th>\n",
       "      <th>numberOfSubscribers</th>\n",
       "      <th>duration</th>\n",
       "      <th>commentsCount</th>\n",
       "      <th>text</th>\n",
       "      <th>keyword</th>\n",
       "      <th>ratio</th>\n",
       "      <th>sentimentScore</th>\n",
       "      <th>score</th>\n",
       "    </tr>\n",
       "  </thead>\n",
       "  <tbody>\n",
       "    <tr>\n",
       "      <th>54</th>\n",
       "      <td>Whoopi Goldberg and Joy Behar will 'regret' ap...</td>\n",
       "      <td>https://www.youtube.com/watch?v=3XC7-zaUvj8&amp;pp...</td>\n",
       "      <td>https://i.ytimg.com/vi/3XC7-zaUvj8/maxresdefau...</td>\n",
       "      <td>77542</td>\n",
       "      <td>2023-04-29</td>\n",
       "      <td>2604</td>\n",
       "      <td>Sky News Australia</td>\n",
       "      <td>http://www.youtube.com/@SkyNewsAustralia</td>\n",
       "      <td>0</td>\n",
       "      <td>00:03:39</td>\n",
       "      <td>984.0</td>\n",
       "      <td>The View hosts Whoopi Goldberg and Joy Behar h...</td>\n",
       "      <td>tuckerCarlson</td>\n",
       "      <td>0.33</td>\n",
       "      <td>1.7435</td>\n",
       "      <td>0.974274</td>\n",
       "    </tr>\n",
       "    <tr>\n",
       "      <th>372</th>\n",
       "      <td>Tucker Carlson: Biden trusts Beijing more than...</td>\n",
       "      <td>https://www.youtube.com/watch?v=pZJftHe7byo&amp;pp...</td>\n",
       "      <td>https://i.ytimg.com/vi/pZJftHe7byo/maxresdefau...</td>\n",
       "      <td>789862</td>\n",
       "      <td>2023-01-11</td>\n",
       "      <td>30067</td>\n",
       "      <td>Fox News</td>\n",
       "      <td>http://www.youtube.com/@FoxNews</td>\n",
       "      <td>10400000</td>\n",
       "      <td>1</td>\n",
       "      <td>1.0</td>\n",
       "      <td>Fox News host Tucker Carlson reacts to allegat...</td>\n",
       "      <td>tuckerCarlson</td>\n",
       "      <td>0.35</td>\n",
       "      <td>1.7138</td>\n",
       "      <td>0.973323</td>\n",
       "    </tr>\n",
       "    <tr>\n",
       "      <th>481</th>\n",
       "      <td>'Fearless warrior': Kimberly Guilfoyle praises...</td>\n",
       "      <td>https://www.youtube.com/watch?v=AxEZ5cJfKDM&amp;pp...</td>\n",
       "      <td>https://i.ytimg.com/vi/AxEZ5cJfKDM/hqdefault.jpg</td>\n",
       "      <td>23815</td>\n",
       "      <td>2023-04-26</td>\n",
       "      <td>2094</td>\n",
       "      <td>Newsmax</td>\n",
       "      <td>http://www.youtube.com/@NewsmaxTV</td>\n",
       "      <td>2110000</td>\n",
       "      <td>00:05:49</td>\n",
       "      <td>297.0</td>\n",
       "      <td>On Wednesday's \"Carl Higbie FRONTLINE,\" Kimber...</td>\n",
       "      <td>tuckerCarlson</td>\n",
       "      <td>0.47</td>\n",
       "      <td>1.6498</td>\n",
       "      <td>0.973197</td>\n",
       "    </tr>\n",
       "    <tr>\n",
       "      <th>219</th>\n",
       "      <td>Tucker: This new footage of Dr. Fauci is amazing</td>\n",
       "      <td>https://www.youtube.com/watch?v=Jop8ooKfoLY&amp;pp...</td>\n",
       "      <td>https://i.ytimg.com/vi/Jop8ooKfoLY/maxresdefau...</td>\n",
       "      <td>2080334</td>\n",
       "      <td>2023-03-22</td>\n",
       "      <td>86370</td>\n",
       "      <td>Fox News</td>\n",
       "      <td>http://www.youtube.com/@FoxNews</td>\n",
       "      <td>10400000</td>\n",
       "      <td>00:05:03</td>\n",
       "      <td>11056.0</td>\n",
       "      <td>Fox News contributor Raymond Arroyo provides r...</td>\n",
       "      <td>tuckerCarlson</td>\n",
       "      <td>0.35</td>\n",
       "      <td>1.5646</td>\n",
       "      <td>0.964786</td>\n",
       "    </tr>\n",
       "    <tr>\n",
       "      <th>465</th>\n",
       "      <td>Ric Grenell: NEWSMAX is the perfect place for ...</td>\n",
       "      <td>https://www.youtube.com/watch?v=DCQ9BAq2giE&amp;pp...</td>\n",
       "      <td>https://i.ytimg.com/vi/DCQ9BAq2giE/maxresdefau...</td>\n",
       "      <td>48840</td>\n",
       "      <td>2023-04-29</td>\n",
       "      <td>4072</td>\n",
       "      <td>Newsmax</td>\n",
       "      <td>http://www.youtube.com/@NewsmaxTV</td>\n",
       "      <td>2110000</td>\n",
       "      <td>00:08:30</td>\n",
       "      <td>511.0</td>\n",
       "      <td>On Saturday's \"The Count,\" former acting Direc...</td>\n",
       "      <td>tuckerCarlson</td>\n",
       "      <td>0.46</td>\n",
       "      <td>1.4705</td>\n",
       "      <td>0.962190</td>\n",
       "    </tr>\n",
       "  </tbody>\n",
       "</table>\n",
       "</div>"
      ],
      "text/plain": [
       "                                                 title  \\\n",
       "54   Whoopi Goldberg and Joy Behar will 'regret' ap...   \n",
       "372  Tucker Carlson: Biden trusts Beijing more than...   \n",
       "481  'Fearless warrior': Kimberly Guilfoyle praises...   \n",
       "219   Tucker: This new footage of Dr. Fauci is amazing   \n",
       "465  Ric Grenell: NEWSMAX is the perfect place for ...   \n",
       "\n",
       "                                                   url  \\\n",
       "54   https://www.youtube.com/watch?v=3XC7-zaUvj8&pp...   \n",
       "372  https://www.youtube.com/watch?v=pZJftHe7byo&pp...   \n",
       "481  https://www.youtube.com/watch?v=AxEZ5cJfKDM&pp...   \n",
       "219  https://www.youtube.com/watch?v=Jop8ooKfoLY&pp...   \n",
       "465  https://www.youtube.com/watch?v=DCQ9BAq2giE&pp...   \n",
       "\n",
       "                                          thumbnailUrl  viewCount       date  \\\n",
       "54   https://i.ytimg.com/vi/3XC7-zaUvj8/maxresdefau...      77542 2023-04-29   \n",
       "372  https://i.ytimg.com/vi/pZJftHe7byo/maxresdefau...     789862 2023-01-11   \n",
       "481   https://i.ytimg.com/vi/AxEZ5cJfKDM/hqdefault.jpg      23815 2023-04-26   \n",
       "219  https://i.ytimg.com/vi/Jop8ooKfoLY/maxresdefau...    2080334 2023-03-22   \n",
       "465  https://i.ytimg.com/vi/DCQ9BAq2giE/maxresdefau...      48840 2023-04-29   \n",
       "\n",
       "     likes         channelName                                channelUrl  \\\n",
       "54    2604  Sky News Australia  http://www.youtube.com/@SkyNewsAustralia   \n",
       "372  30067            Fox News           http://www.youtube.com/@FoxNews   \n",
       "481   2094             Newsmax         http://www.youtube.com/@NewsmaxTV   \n",
       "219  86370            Fox News           http://www.youtube.com/@FoxNews   \n",
       "465   4072             Newsmax         http://www.youtube.com/@NewsmaxTV   \n",
       "\n",
       "     numberOfSubscribers  duration  commentsCount  \\\n",
       "54                     0  00:03:39          984.0   \n",
       "372             10400000         1            1.0   \n",
       "481              2110000  00:05:49          297.0   \n",
       "219             10400000  00:05:03        11056.0   \n",
       "465              2110000  00:08:30          511.0   \n",
       "\n",
       "                                                  text        keyword  ratio  \\\n",
       "54   The View hosts Whoopi Goldberg and Joy Behar h...  tuckerCarlson   0.33   \n",
       "372  Fox News host Tucker Carlson reacts to allegat...  tuckerCarlson   0.35   \n",
       "481  On Wednesday's \"Carl Higbie FRONTLINE,\" Kimber...  tuckerCarlson   0.47   \n",
       "219  Fox News contributor Raymond Arroyo provides r...  tuckerCarlson   0.35   \n",
       "465  On Saturday's \"The Count,\" former acting Direc...  tuckerCarlson   0.46   \n",
       "\n",
       "     sentimentScore     score  \n",
       "54           1.7435  0.974274  \n",
       "372          1.7138  0.973323  \n",
       "481          1.6498  0.973197  \n",
       "219          1.5646  0.964786  \n",
       "465          1.4705  0.962190  "
      ]
     },
     "execution_count": 574,
     "metadata": {},
     "output_type": "execute_result"
    }
   ],
   "source": [
    "df.head()"
   ]
  },
  {
   "cell_type": "code",
   "execution_count": null,
   "id": "e8e2bfda",
   "metadata": {},
   "outputs": [],
   "source": []
  },
  {
   "cell_type": "code",
   "execution_count": null,
   "id": "d739f561",
   "metadata": {},
   "outputs": [],
   "source": []
  },
  {
   "cell_type": "code",
   "execution_count": null,
   "id": "c99afed2",
   "metadata": {},
   "outputs": [],
   "source": []
  },
  {
   "cell_type": "code",
   "execution_count": null,
   "id": "c083642a",
   "metadata": {},
   "outputs": [],
   "source": []
  },
  {
   "cell_type": "code",
   "execution_count": null,
   "id": "c1ef0873",
   "metadata": {},
   "outputs": [],
   "source": []
  },
  {
   "cell_type": "code",
   "execution_count": null,
   "id": "5a927462",
   "metadata": {},
   "outputs": [],
   "source": []
  },
  {
   "cell_type": "code",
   "execution_count": null,
   "id": "a94ca589",
   "metadata": {},
   "outputs": [],
   "source": []
  },
  {
   "cell_type": "code",
   "execution_count": null,
   "id": "664b1031",
   "metadata": {},
   "outputs": [],
   "source": []
  }
 ],
 "metadata": {
  "kernelspec": {
   "display_name": "Python 3 (ipykernel)",
   "language": "python",
   "name": "python3"
  },
  "language_info": {
   "codemirror_mode": {
    "name": "ipython",
    "version": 3
   },
   "file_extension": ".py",
   "mimetype": "text/x-python",
   "name": "python",
   "nbconvert_exporter": "python",
   "pygments_lexer": "ipython3",
   "version": "3.10.6"
  }
 },
 "nbformat": 4,
 "nbformat_minor": 5
}
