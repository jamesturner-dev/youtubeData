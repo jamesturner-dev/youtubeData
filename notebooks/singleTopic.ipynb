{
 "cells": [
  {
   "cell_type": "code",
   "execution_count": 205,
   "id": "7ebf1936",
   "metadata": {},
   "outputs": [],
   "source": [
    "import pandas as pd\n",
    "import numpy as np\n",
    "import datetime\n",
    "import math\n",
    "import nltk"
   ]
  },
  {
   "cell_type": "code",
   "execution_count": 206,
   "id": "058cb572",
   "metadata": {},
   "outputs": [
    {
     "name": "stderr",
     "output_type": "stream",
     "text": [
      "[nltk_data] Downloading package vader_lexicon to\n",
      "[nltk_data]     /home/james/nltk_data...\n",
      "[nltk_data]   Package vader_lexicon is already up-to-date!\n"
     ]
    }
   ],
   "source": [
    "nltk.download('vader_lexicon')\n",
    "from nltk.sentiment.vader import SentimentIntensityAnalyzer\n",
    "sid = SentimentIntensityAnalyzer()"
   ]
  },
  {
   "cell_type": "code",
   "execution_count": 207,
   "id": "ace6fb65",
   "metadata": {},
   "outputs": [],
   "source": [
    "df = pd.read_json('./json/karineJean-Pierre.json')\n",
    "df = df.assign(keyword=\"biden\")\n",
    "dropList = ['id', 'dislikes', 'location', 'subtitles', 'comments', 'commentsTurnedOff', 'details', 'duration']\n",
    "df = df.drop(dropList, axis =1)\n",
    "df = df.replace(np.nan, 0)\n",
    "df['ratio'] =  round((df['likes'] / df['viewCount'] + 0.1) * 2.5, 2)\n",
    "df['ratio'] = df['ratio'].apply(lambda x: 1 / (1 + math.exp(-x)))"
   ]
  },
  {
   "cell_type": "code",
   "execution_count": 208,
   "id": "9a796432",
   "metadata": {},
   "outputs": [
    {
     "name": "stdout",
     "output_type": "stream",
     "text": [
      "TOTAL VIDEOS: 173, WEIGHTED AV views: 1032124.43, likes: 19516.07, comments: 3720.16, ratio: 99.35171693958321\n"
     ]
    }
   ],
   "source": [
    "# THESE ARE THE SHEETS TOTALS\n",
    "dfLength = len(df.index)\n",
    "ratioAverage = df['ratio'].sum()\n",
    "views = round(df['viewCount'].sum() / dfLength, 2)\n",
    "likes = round(df['likes'].sum() / dfLength, 2)\n",
    "comments = round(df['commentsCount'].sum() / dfLength, 2)\n",
    "print(f'TOTAL VIDEOS: {dfLength}, WEIGHTED AV views: {views}, likes: {likes}, comments: {comments}, ratio: {ratioAverage}')"
   ]
  },
  {
   "cell_type": "code",
   "execution_count": 209,
   "id": "e8829b1a",
   "metadata": {},
   "outputs": [
    {
     "data": {
      "text/plain": [
       "pos    126\n",
       "neg     47\n",
       "Name: titleCompScore, dtype: int64"
      ]
     },
     "execution_count": 209,
     "metadata": {},
     "output_type": "execute_result"
    }
   ],
   "source": [
    "df['titleScores'] = df['title'].apply(lambda text: sid.polarity_scores(text))\n",
    "df['titleCompound']  = df['titleScores'].apply(lambda score_dict: score_dict['compound'])\n",
    "df['titleCompScore'] = df['titleCompound'].apply(lambda c: 'pos' if c >=0 else 'neg')\n",
    "titleIndex = pd.Index(df['titleCompScore'])\n",
    "titleIndex.value_counts()"
   ]
  },
  {
   "cell_type": "code",
   "execution_count": 210,
   "id": "4deb4e4c",
   "metadata": {},
   "outputs": [
    {
     "data": {
      "text/plain": [
       "pos    148\n",
       "neg     25\n",
       "Name: textCompScore, dtype: int64"
      ]
     },
     "execution_count": 210,
     "metadata": {},
     "output_type": "execute_result"
    }
   ],
   "source": [
    "df['textScores'] = df['text'].apply(lambda text: sid.polarity_scores(text))\n",
    "df['textCompound']  = df['textScores'].apply(lambda score_dict: score_dict['compound'])\n",
    "df['textCompScore'] = df['textCompound'].apply(lambda c: 'pos' if c >=0 else 'neg')\n",
    "df['date'] = df['date'].astype(str)\n",
    "df['date'] = df['date'].str.slice(0,4)\n",
    "textIndex = pd.Index(df['textCompScore'])\n",
    "textIndex.value_counts()"
   ]
  },
  {
   "cell_type": "code",
   "execution_count": 211,
   "id": "6463e733",
   "metadata": {},
   "outputs": [],
   "source": [
    "df['sentimentScore'] = df['titleCompound'] + df['textCompound']\n",
    "df['penalty'] =  (2023 - df['date'].astype(int)) *.05\n",
    "df['score'] = ((df['commentsCount'].apply(lambda x: 1 / (1 + math.exp(-x))) + df['likes'].apply(lambda x: 1 / (1 + math.exp(-x)))  + df['viewCount'].apply(lambda x: 1 / (1 + math.exp(-x))))/100000) + 0.1 /3"
   ]
  },
  {
   "cell_type": "code",
   "execution_count": 212,
   "id": "19e2d41c",
   "metadata": {},
   "outputs": [],
   "source": [
    "df['score'] = (df['score'] * (df['ratio']) +0.5 * (df['sentimentScore'] +.3))\n",
    "df['score'] = df['score'].apply(lambda x: 1 / (1 + math.exp(-x)))\n",
    "df['score'] - df['penalty']\n",
    "df = df.sort_values('score', ascending=False)\n",
    "secondDrop = ['titleScores', 'titleCompScore', 'textScores', 'textCompScore', 'textCompound', 'titleCompound', 'ratio', 'penalty', 'sentimentScore', 'commentsCount', 'numberOfSubscribers', 'likes', 'date', 'viewCount' ]\n",
    "df=df.drop(secondDrop, axis=1)"
   ]
  },
  {
   "cell_type": "code",
   "execution_count": 213,
   "id": "d739f561",
   "metadata": {},
   "outputs": [
    {
     "data": {
      "text/html": [
       "<div>\n",
       "<style scoped>\n",
       "    .dataframe tbody tr th:only-of-type {\n",
       "        vertical-align: middle;\n",
       "    }\n",
       "\n",
       "    .dataframe tbody tr th {\n",
       "        vertical-align: top;\n",
       "    }\n",
       "\n",
       "    .dataframe thead th {\n",
       "        text-align: right;\n",
       "    }\n",
       "</style>\n",
       "<table border=\"1\" class=\"dataframe\">\n",
       "  <thead>\n",
       "    <tr style=\"text-align: right;\">\n",
       "      <th></th>\n",
       "      <th>title</th>\n",
       "      <th>url</th>\n",
       "      <th>thumbnailUrl</th>\n",
       "      <th>channelName</th>\n",
       "      <th>channelUrl</th>\n",
       "      <th>text</th>\n",
       "      <th>keyword</th>\n",
       "      <th>score</th>\n",
       "    </tr>\n",
       "  </thead>\n",
       "  <tbody>\n",
       "    <tr>\n",
       "      <th>98</th>\n",
       "      <td>President Obama Surprises Joe Biden With Medal...</td>\n",
       "      <td>https://www.youtube.com/watch?v=SzBFR2EE8hM&amp;pp...</td>\n",
       "      <td>https://i.ytimg.com/vi/SzBFR2EE8hM/maxresdefau...</td>\n",
       "      <td>Wall Street Journal</td>\n",
       "      <td>http://www.youtube.com/@wsj</td>\n",
       "      <td>In a special sendoff, President Barack Obama s...</td>\n",
       "      <td>biden</td>\n",
       "      <td>0.744419</td>\n",
       "    </tr>\n",
       "    <tr>\n",
       "      <th>121</th>\n",
       "      <td>'Play your hearts out:' Joe Biden wishes US sq...</td>\n",
       "      <td>https://www.youtube.com/watch?v=1Ks_yQUDqfw&amp;pp...</td>\n",
       "      <td>https://i.ytimg.com/vi/1Ks_yQUDqfw/maxresdefau...</td>\n",
       "      <td>The Telegraph</td>\n",
       "      <td>http://www.youtube.com/@telegraph</td>\n",
       "      <td>US President Joe Biden called the US men's nat...</td>\n",
       "      <td>biden</td>\n",
       "      <td>0.729495</td>\n",
       "    </tr>\n",
       "  </tbody>\n",
       "</table>\n",
       "</div>"
      ],
      "text/plain": [
       "                                                 title  \\\n",
       "98   President Obama Surprises Joe Biden With Medal...   \n",
       "121  'Play your hearts out:' Joe Biden wishes US sq...   \n",
       "\n",
       "                                                   url  \\\n",
       "98   https://www.youtube.com/watch?v=SzBFR2EE8hM&pp...   \n",
       "121  https://www.youtube.com/watch?v=1Ks_yQUDqfw&pp...   \n",
       "\n",
       "                                          thumbnailUrl          channelName  \\\n",
       "98   https://i.ytimg.com/vi/SzBFR2EE8hM/maxresdefau...  Wall Street Journal   \n",
       "121  https://i.ytimg.com/vi/1Ks_yQUDqfw/maxresdefau...        The Telegraph   \n",
       "\n",
       "                            channelUrl  \\\n",
       "98         http://www.youtube.com/@wsj   \n",
       "121  http://www.youtube.com/@telegraph   \n",
       "\n",
       "                                                  text keyword     score  \n",
       "98   In a special sendoff, President Barack Obama s...   biden  0.744419  \n",
       "121  US President Joe Biden called the US men's nat...   biden  0.729495  "
      ]
     },
     "execution_count": 213,
     "metadata": {},
     "output_type": "execute_result"
    }
   ],
   "source": [
    "df.head(2)"
   ]
  },
  {
   "cell_type": "code",
   "execution_count": 214,
   "id": "c99afed2",
   "metadata": {},
   "outputs": [
    {
     "data": {
      "text/html": [
       "<div>\n",
       "<style scoped>\n",
       "    .dataframe tbody tr th:only-of-type {\n",
       "        vertical-align: middle;\n",
       "    }\n",
       "\n",
       "    .dataframe tbody tr th {\n",
       "        vertical-align: top;\n",
       "    }\n",
       "\n",
       "    .dataframe thead th {\n",
       "        text-align: right;\n",
       "    }\n",
       "</style>\n",
       "<table border=\"1\" class=\"dataframe\">\n",
       "  <thead>\n",
       "    <tr style=\"text-align: right;\">\n",
       "      <th></th>\n",
       "      <th>title</th>\n",
       "      <th>url</th>\n",
       "      <th>thumbnailUrl</th>\n",
       "      <th>channelName</th>\n",
       "      <th>channelUrl</th>\n",
       "      <th>text</th>\n",
       "      <th>keyword</th>\n",
       "      <th>score</th>\n",
       "    </tr>\n",
       "  </thead>\n",
       "  <tbody>\n",
       "    <tr>\n",
       "      <th>68</th>\n",
       "      <td>Russia-Ukraine War Live : President Joe Biden ...</td>\n",
       "      <td>https://www.youtube.com/watch?v=mE8tdOLRiXw&amp;pp...</td>\n",
       "      <td>https://i.ytimg.com/vi/mE8tdOLRiXw/maxresdefau...</td>\n",
       "      <td>TV9 Bharatvarsh</td>\n",
       "      <td>http://www.youtube.com/@TV9Bharatvarsh</td>\n",
       "      <td>Russia-Ukraine War Live : President Joe Biden ...</td>\n",
       "      <td>biden</td>\n",
       "      <td>0.356868</td>\n",
       "    </tr>\n",
       "    <tr>\n",
       "      <th>43</th>\n",
       "      <td>Russia-Ukraine War : Putin का प्रतिशोध LIVE | ...</td>\n",
       "      <td>https://www.youtube.com/watch?v=ZlMTdsFITMs&amp;pp...</td>\n",
       "      <td>https://i.ytimg.com/vi/ZlMTdsFITMs/maxresdefau...</td>\n",
       "      <td>TV9 Bharatvarsh</td>\n",
       "      <td>http://www.youtube.com/@TV9Bharatvarsh</td>\n",
       "      <td>Russia-Ukraine War : Putin का प्रतिशोध LIVE | ...</td>\n",
       "      <td>biden</td>\n",
       "      <td>0.349399</td>\n",
       "    </tr>\n",
       "  </tbody>\n",
       "</table>\n",
       "</div>"
      ],
      "text/plain": [
       "                                                title  \\\n",
       "68  Russia-Ukraine War Live : President Joe Biden ...   \n",
       "43  Russia-Ukraine War : Putin का प्रतिशोध LIVE | ...   \n",
       "\n",
       "                                                  url  \\\n",
       "68  https://www.youtube.com/watch?v=mE8tdOLRiXw&pp...   \n",
       "43  https://www.youtube.com/watch?v=ZlMTdsFITMs&pp...   \n",
       "\n",
       "                                         thumbnailUrl      channelName  \\\n",
       "68  https://i.ytimg.com/vi/mE8tdOLRiXw/maxresdefau...  TV9 Bharatvarsh   \n",
       "43  https://i.ytimg.com/vi/ZlMTdsFITMs/maxresdefau...  TV9 Bharatvarsh   \n",
       "\n",
       "                                channelUrl  \\\n",
       "68  http://www.youtube.com/@TV9Bharatvarsh   \n",
       "43  http://www.youtube.com/@TV9Bharatvarsh   \n",
       "\n",
       "                                                 text keyword     score  \n",
       "68  Russia-Ukraine War Live : President Joe Biden ...   biden  0.356868  \n",
       "43  Russia-Ukraine War : Putin का प्रतिशोध LIVE | ...   biden  0.349399  "
      ]
     },
     "execution_count": 214,
     "metadata": {},
     "output_type": "execute_result"
    }
   ],
   "source": [
    "df.tail(2)"
   ]
  },
  {
   "cell_type": "code",
   "execution_count": 215,
   "id": "c083642a",
   "metadata": {},
   "outputs": [],
   "source": [
    "df.to_csv('karineJean-Pierre.csv', index=False)  "
   ]
  },
  {
   "cell_type": "code",
   "execution_count": 216,
   "id": "c1ef0873",
   "metadata": {},
   "outputs": [
    {
     "name": "stdout",
     "output_type": "stream",
     "text": [
      "biden.csv  \u001b[0m\u001b[01;34mdata\u001b[0m/  \u001b[01;34mjson\u001b[0m/  \u001b[01;34mnotebooks\u001b[0m/  README.md  tucker.ipynb\r\n"
     ]
    }
   ],
   "source": [
    "ls"
   ]
  },
  {
   "cell_type": "code",
   "execution_count": null,
   "id": "5a927462",
   "metadata": {},
   "outputs": [],
   "source": []
  },
  {
   "cell_type": "code",
   "execution_count": null,
   "id": "a94ca589",
   "metadata": {},
   "outputs": [],
   "source": []
  },
  {
   "cell_type": "code",
   "execution_count": null,
   "id": "664b1031",
   "metadata": {},
   "outputs": [],
   "source": []
  }
 ],
 "metadata": {
  "kernelspec": {
   "display_name": "Python 3 (ipykernel)",
   "language": "python",
   "name": "python3"
  },
  "language_info": {
   "codemirror_mode": {
    "name": "ipython",
    "version": 3
   },
   "file_extension": ".py",
   "mimetype": "text/x-python",
   "name": "python",
   "nbconvert_exporter": "python",
   "pygments_lexer": "ipython3",
   "version": "3.10.6"
  }
 },
 "nbformat": 4,
 "nbformat_minor": 5
}
