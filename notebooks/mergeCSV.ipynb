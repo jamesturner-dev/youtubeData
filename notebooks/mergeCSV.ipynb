{
 "cells": [
  {
   "cell_type": "code",
   "execution_count": 57,
   "id": "b2f863c1",
   "metadata": {},
   "outputs": [],
   "source": [
    "import pandas as pd\n",
    "import os\n",
    "import glob\n",
    "from pathlib import Path"
   ]
  },
  {
   "cell_type": "code",
   "execution_count": 58,
   "id": "09cef08c",
   "metadata": {},
   "outputs": [],
   "source": [
    "path = r'/home/james/Desktop/youtubeData/data' # use your path\n",
    "files = Path(path).glob('*.csv')\n",
    "dfs = list()\n",
    "for i, f in enumerate(files):\n",
    "    data = pd.read_csv(f)\n",
    "    data['file'] = f'File {i}'\n",
    "    dfs.append(data)\n",
    "\n",
    "df = pd.concat(dfs, ignore_index=True)"
   ]
  },
  {
   "cell_type": "code",
   "execution_count": 59,
   "id": "13d56478",
   "metadata": {},
   "outputs": [],
   "source": [
    "df = df.drop(['file', 'thumbnailUrl'], axis=1)"
   ]
  },
  {
   "cell_type": "code",
   "execution_count": 60,
   "id": "6c2d8fcf",
   "metadata": {},
   "outputs": [],
   "source": [
    "df = df.sort_values('score', ascending=False)"
   ]
  },
  {
   "cell_type": "code",
   "execution_count": 67,
   "id": "0af168f4",
   "metadata": {},
   "outputs": [
    {
     "data": {
      "text/plain": [
       "447     BEST Donald Trump Impression Has Simon Cowell ...\n",
       "220     Bill Gates Motivational Videos | Success Secre...\n",
       "930         Super Bowl Commercials: Budweiser Frogs Best!\n",
       "221     7 Rules For Success | 7 Best Lessons From Bill...\n",
       "931     Budweiser Clydesdale Puppy Love Super Bowl 201...\n",
       "932     Budweiser \"Puppy Love\" Super Bowl XLV111 Comme...\n",
       "448     Is This Possibly the Best Donald Trump Impress...\n",
       "2066    Gutfeld explores why the smartest kids are als...\n",
       "4960    President Obama Surprises Joe Biden With Medal...\n",
       "3788    Don Lemon Sends Love to T.J. Holmes Amid Amy R...\n",
       "4419    'Anti-Woke' MARIO Movie a HUGE Hit; Wins Appro...\n",
       "2067          Trump praises Gutfeld on late-night success\n",
       "4154    Cecily Strong Loved Portraying Kari Lake on Sa...\n",
       "222     Motivational Success Story Of Bill Gates - Fro...\n",
       "3554    🔥AOC ADMIT CARD 2023 | AOC FIREMAN ADMIT CARD ...\n",
       "3789    Tucker roasts Don Lemon's morning show: It's l...\n",
       "2624    Nike gets SUPER WOKE! Partners with BIOLOGICAL...\n",
       "1482    Whoopi Goldberg and Joy Behar will 'regret' ap...\n",
       "3555     Best Value Ultrawide - AOC CU34G2 Gaming Monitor\n",
       "3060    THE BUD LIGHT CARRY | EASY TO DRINK EASY TO EN...\n",
       "Name: title, dtype: object"
      ]
     },
     "execution_count": 67,
     "metadata": {},
     "output_type": "execute_result"
    }
   ],
   "source": [
    "df['title'].head(20)\n",
    "        "
   ]
  },
  {
   "cell_type": "code",
   "execution_count": 70,
   "id": "3df46929",
   "metadata": {},
   "outputs": [],
   "source": [
    "df.to_csv('combined.csv', index=False) "
   ]
  },
  {
   "cell_type": "code",
   "execution_count": null,
   "id": "b0bfc16a",
   "metadata": {},
   "outputs": [],
   "source": []
  },
  {
   "cell_type": "code",
   "execution_count": null,
   "id": "bb53613e",
   "metadata": {},
   "outputs": [],
   "source": []
  },
  {
   "cell_type": "code",
   "execution_count": 62,
   "id": "6e726c9c",
   "metadata": {},
   "outputs": [
    {
     "name": "stdout",
     "output_type": "stream",
     "text": [
      "<class 'pandas.core.frame.DataFrame'>\n",
      "Int64Index: 5133 entries, 447 to 2623\n",
      "Data columns (total 7 columns):\n",
      " #   Column       Non-Null Count  Dtype  \n",
      "---  ------       --------------  -----  \n",
      " 0   title        5108 non-null   object \n",
      " 1   url          5133 non-null   object \n",
      " 2   channelName  5133 non-null   object \n",
      " 3   channelUrl   5133 non-null   object \n",
      " 4   text         5044 non-null   object \n",
      " 5   keyword      5133 non-null   object \n",
      " 6   score        5133 non-null   float64\n",
      "dtypes: float64(1), object(6)\n",
      "memory usage: 320.8+ KB\n"
     ]
    }
   ],
   "source": [
    "df.info()"
   ]
  },
  {
   "cell_type": "code",
   "execution_count": null,
   "id": "e4de394c",
   "metadata": {},
   "outputs": [],
   "source": []
  }
 ],
 "metadata": {
  "kernelspec": {
   "display_name": "Python 3 (ipykernel)",
   "language": "python",
   "name": "python3"
  },
  "language_info": {
   "codemirror_mode": {
    "name": "ipython",
    "version": 3
   },
   "file_extension": ".py",
   "mimetype": "text/x-python",
   "name": "python",
   "nbconvert_exporter": "python",
   "pygments_lexer": "ipython3",
   "version": "3.10.6"
  }
 },
 "nbformat": 4,
 "nbformat_minor": 5
}
